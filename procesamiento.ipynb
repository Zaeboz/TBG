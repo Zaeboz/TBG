{
 "cells": [
  {
   "cell_type": "markdown",
   "metadata": {},
   "source": [
    "# Preprocesamiento de Datos\n",
    "\n",
    "En esta sección, se realizará el preprocesamiento de los datos de la siguiente manera:\n",
    "\n",
    "1. Rellenar los valores nulos (identificados con '?') en aquellas características que tengan menos del 50% de datos faltantes.\n",
    "2. Convertir los IDs de admisión, alta y diagnósticos primarios y secundarios a sus respectivas descripciones textuales.\n",
    "3. Eliminar algunas características y crear nuevas.\n",
    "4. En la columna objetivo ('readmitted'), asignar {<30} a 1 y {>30, NO} a 0, transformando el problema en una clasificación binaria.\n",
    "5. Abordar el desbalance de datos.\n",
    "6. Eliminar filas duplicadas.\n",
    "7. Dividir los datos en conjuntos de entrenamiento, prueba y validación cruzada."
   ]
  },
  {
   "cell_type": "code",
   "execution_count": null,
   "metadata": {},
   "outputs": [],
   "source": [
    "import pandas as pd\n",
    "import numpy as np\n",
    "import matplotlib.pyplot as plt\n",
    "import seaborn as sns"
   ]
  },
  {
   "cell_type": "markdown",
   "metadata": {},
   "source": []
  }
 ],
 "metadata": {
  "language_info": {
   "name": "python"
  }
 },
 "nbformat": 4,
 "nbformat_minor": 2
}
